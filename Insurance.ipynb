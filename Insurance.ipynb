{
  "nbformat": 4,
  "nbformat_minor": 0,
  "metadata": {
    "colab": {
      "provenance": []
    },
    "kernelspec": {
      "name": "python3",
      "display_name": "Python 3"
    },
    "language_info": {
      "name": "python"
    }
  },
  "cells": [
    {
      "cell_type": "code",
      "execution_count": null,
      "metadata": {
        "id": "AXfQAbXsSHA1"
      },
      "outputs": [],
      "source": [
        "import pandas as pd\n",
        "import pickle\n",
        "from pandas import DataFrame, Series\n",
        "from sklearn.ensemble import RandomForestClassifier, RandomForestRegressor\n",
        "import numpy as np\n",
        "import statsmodels.api as sm\n",
        "from sklearn import linear_model\n",
        "from sklearn.model_selection import train_test_split, cross_val_score\n",
        "from google.colab import drive\n",
        "drive.mount('/content/drive')"
      ]
    },
    {
      "cell_type": "code",
      "source": [
        "df = pd.read_csv('/content/drive/My Drive/Machine_Learning/insurance.csv',low_memory=False)"
      ],
      "metadata": {
        "id": "pfL3e1OCSMPR"
      },
      "execution_count": 68,
      "outputs": []
    },
    {
      "cell_type": "code",
      "source": [
        "df.describe()"
      ],
      "metadata": {
        "id": "eialZpufSXVJ"
      },
      "execution_count": null,
      "outputs": []
    },
    {
      "cell_type": "code",
      "source": [
        "X = df[[\"age\", \"bmi\", \"children\",\"M_F\",\"smoke_no\"]]\n",
        "y = df[\"charges\"]"
      ],
      "metadata": {
        "id": "l_TUdxGTVWv0"
      },
      "execution_count": 71,
      "outputs": []
    },
    {
      "cell_type": "code",
      "source": [
        "X_train, X_test, y_train, y_test = train_test_split(X,y,test_size=.2)"
      ],
      "metadata": {
        "id": "oJDzpdIkYD3h"
      },
      "execution_count": 72,
      "outputs": []
    },
    {
      "cell_type": "code",
      "source": [
        "model = RandomForestRegressor()"
      ],
      "metadata": {
        "id": "VZoITU5ZYWj3"
      },
      "execution_count": 42,
      "outputs": []
    },
    {
      "cell_type": "code",
      "source": [
        "model.fit(X_train, y_train)"
      ],
      "metadata": {
        "colab": {
          "base_uri": "https://localhost:8080/"
        },
        "id": "V7auD9YRYi0R",
        "outputId": "1c093582-2772-4460-efa4-4d2852605c13"
      },
      "execution_count": 43,
      "outputs": [
        {
          "output_type": "execute_result",
          "data": {
            "text/plain": [
              "RandomForestRegressor()"
            ]
          },
          "metadata": {},
          "execution_count": 43
        }
      ]
    },
    {
      "cell_type": "code",
      "source": [
        "y_pred1 = model.predict(X_test)"
      ],
      "metadata": {
        "id": "55qv5YhDYqIN"
      },
      "execution_count": 47,
      "outputs": []
    },
    {
      "cell_type": "code",
      "source": [
        "reg = linear_model.LinearRegression()\n",
        "reg.fit(X_train, y_train)"
      ],
      "metadata": {
        "colab": {
          "base_uri": "https://localhost:8080/"
        },
        "id": "mfm7dGCbYvty",
        "outputId": "5a54b603-6e23-4863-a35e-0dc40ba6860f"
      },
      "execution_count": 49,
      "outputs": [
        {
          "output_type": "execute_result",
          "data": {
            "text/plain": [
              "LinearRegression()"
            ]
          },
          "metadata": {},
          "execution_count": 49
        }
      ]
    },
    {
      "cell_type": "code",
      "source": [
        "reg.score(X_test, y_test)"
      ],
      "metadata": {
        "colab": {
          "base_uri": "https://localhost:8080/"
        },
        "id": "E5kzyauP9eTv",
        "outputId": "acccf9f0-75be-465f-df49-37990bc45f11"
      },
      "execution_count": 64,
      "outputs": [
        {
          "output_type": "execute_result",
          "data": {
            "text/plain": [
              "0.7786946671287394"
            ]
          },
          "metadata": {},
          "execution_count": 64
        }
      ]
    },
    {
      "cell_type": "code",
      "source": [
        "model.score(X_test, y_test)"
      ],
      "metadata": {
        "colab": {
          "base_uri": "https://localhost:8080/"
        },
        "id": "IxwJq7x_9v25",
        "outputId": "6eac1973-1eb7-44ce-fa60-6d3632bc8a7f"
      },
      "execution_count": 67,
      "outputs": [
        {
          "output_type": "execute_result",
          "data": {
            "text/plain": [
              "0.8594691226966866"
            ]
          },
          "metadata": {},
          "execution_count": 67
        }
      ]
    },
    {
      "cell_type": "code",
      "source": [
        "reg.coef_"
      ],
      "metadata": {
        "colab": {
          "base_uri": "https://localhost:8080/"
        },
        "id": "ZVjG3DN4ZSsS",
        "outputId": "7bde4069-2cce-464e-ca8a-41385abbae00"
      },
      "execution_count": 66,
      "outputs": [
        {
          "output_type": "execute_result",
          "data": {
            "text/plain": [
              "array([  260.82088791,   302.81352255,   591.55477489,    90.9914789 ,\n",
              "       23451.77499503])"
            ]
          },
          "metadata": {},
          "execution_count": 66
        }
      ]
    },
    {
      "cell_type": "code",
      "source": [
        "reg.intercept_"
      ],
      "metadata": {
        "colab": {
          "base_uri": "https://localhost:8080/"
        },
        "id": "w2WjYX8YZZdn",
        "outputId": "4fa75f82-eaeb-41c8-de47-1e4fffb5fc79"
      },
      "execution_count": 53,
      "outputs": [
        {
          "output_type": "execute_result",
          "data": {
            "text/plain": [
              "-11850.842581782039"
            ]
          },
          "metadata": {},
          "execution_count": 53
        }
      ]
    },
    {
      "cell_type": "code",
      "source": [
        "name = input(\"Please enter your name: \")\n",
        "age = float(input(\"How old are you? \"))\n",
        "sex = float(input(\"Are you male or female?(1 FOR FEMALE / 2 FOR MALE)\"))\n",
        "bmi = float(input(\"What is your body mass index (BMI)?\"))\n",
        "children = float(input(\"How many children do you have?\"))\n",
        "smoker = float(input(\"Do You Smoke?(1 FOR YES / 0 FOR NO)\"))\n",
        "#Estimated_Yearly_Charges = (age * 260.82088791) + (bmi* 302.81352255) + (children * 591.55477489 ) + (sex * 90.9914789) + (smoker * 23451.77499503) -11850.842581782039\n",
        "#print(\"The Estimated Insurance Charges yearly for\", name, \"is $\", round(Estimated_Yearly_Charges,2))"
      ],
      "metadata": {
        "colab": {
          "base_uri": "https://localhost:8080/"
        },
        "id": "Z_sIGtHaZfBn",
        "outputId": "b71cf0d1-cc37-4da4-d20b-4e800230597f"
      },
      "execution_count": 60,
      "outputs": [
        {
          "name": "stdout",
          "output_type": "stream",
          "text": [
            "Please enter your name: Johnny davis\n",
            "How old are you? 21\n",
            "Are you male or female?(1 FOR FEMALE / 2 FOR MALE)2\n",
            "What is your body mass index (BMI)?23\n",
            "How many children do you have?0\n",
            "Do You Smoke?(1 FOR YES / 0 FOR NO)0\n"
          ]
        }
      ]
    },
    {
      "cell_type": "code",
      "source": [
        "Estimated_Yearly_Charges = (age * 260.82088791) + (bmi* 302.81352255) + (children * 591.55477489 ) + (sex * 90.9914789) + (smoker * 23451.77499503) -11850.842581782039\n",
        "print(\"The Estimated Insurance Charges yearly for\", name, \"is $\", round(Estimated_Yearly_Charges,2))"
      ],
      "metadata": {
        "colab": {
          "base_uri": "https://localhost:8080/"
        },
        "id": "D-mnHwUdbC3u",
        "outputId": "b4095dfb-e8b0-474a-df90-1b961520f6c4"
      },
      "execution_count": 61,
      "outputs": [
        {
          "output_type": "stream",
          "name": "stdout",
          "text": [
            "The Estimated Insurance Charges yearly for Johnny davis is $ 773.09\n"
          ]
        }
      ]
    }
  ]
}