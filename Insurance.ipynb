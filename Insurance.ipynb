{
  "nbformat": 4,
  "nbformat_minor": 0,
  "metadata": {
    "colab": {
      "provenance": []
    },
    "kernelspec": {
      "name": "python3",
      "display_name": "Python 3"
    },
    "language_info": {
      "name": "python"
    }
  },
  "cells": [
    {
      "cell_type": "code",
      "execution_count": null,
      "metadata": {
        "id": "AXfQAbXsSHA1"
      },
      "outputs": [],
      "source": [
        "import pandas as pd\n",
        "import pickle\n",
        "from pandas import DataFrame, Series\n",
        "from sklearn.ensemble import RandomForestClassifier, RandomForestRegressor\n",
        "import numpy as np\n",
        "import statsmodels.api as sm\n",
        "from sklearn import linear_model\n",
        "from sklearn.model_selection import train_test_split, cross_val_score\n",
        "from google.colab import drive\n",
        "drive.mount('/content/drive')"
      ]
    },
    {
      "cell_type": "code",
      "source": [
        "df = pd.read_csv('/content/drive/My Drive/Machine_Learning/insurance.csv',low_memory=False)"
      ],
      "metadata": {
        "id": "pfL3e1OCSMPR"
      },
      "execution_count": 68,
      "outputs": []
    },
    {
      "cell_type": "code",
      "source": [
        "df.describe()"
      ],
      "metadata": {
        "id": "eialZpufSXVJ"
      },
      "execution_count": null,
      "outputs": []
    },
    {
      "cell_type": "code",
      "source": [
        "X = df[[\"age\", \"bmi\", \"children\",\"M_F\",\"smoke_no\"]]\n",
        "y = df[\"charges\"]"
      ],
      "metadata": {
        "id": "l_TUdxGTVWv0"
      },
      "execution_count": 71,
      "outputs": []
    },
    {
      "cell_type": "code",
      "source": [
        "X_train, X_test, y_train, y_test = train_test_split(X,y,test_size=.2)"
      ],
      "metadata": {
        "id": "oJDzpdIkYD3h"
      },
      "execution_count": 72,
      "outputs": []
    },
    {
      "cell_type": "code",
      "source": [
        "model = RandomForestRegressor()"
      ],
      "metadata": {
        "id": "VZoITU5ZYWj3"
      },
      "execution_count": 42,
      "outputs": []
    },
    {
      "cell_type": "code",
      "source": [
        "model.fit(X_train, y_train)"
      ],
      "metadata": {
        "id": "V7auD9YRYi0R"
      },
      "execution_count": null,
      "outputs": []
    },
    {
      "cell_type": "code",
      "source": [
        "y_pred1 = model.predict(X_test)"
      ],
      "metadata": {
        "id": "55qv5YhDYqIN"
      },
      "execution_count": 47,
      "outputs": []
    },
    {
      "cell_type": "code",
      "source": [
        "reg = linear_model.LinearRegression()\n",
        "reg.fit(X_train, y_train)"
      ],
      "metadata": {
        "id": "mfm7dGCbYvty"
      },
      "execution_count": null,
      "outputs": []
    },
    {
      "cell_type": "code",
      "source": [
        "reg.score(X_test, y_test)"
      ],
      "metadata": {
        "id": "E5kzyauP9eTv"
      },
      "execution_count": null,
      "outputs": []
    },
    {
      "cell_type": "code",
      "source": [
        "model.score(X_test, y_test)"
      ],
      "metadata": {
        "id": "IxwJq7x_9v25"
      },
      "execution_count": null,
      "outputs": []
    },
    {
      "cell_type": "code",
      "source": [
        "reg.coef_"
      ],
      "metadata": {
        "id": "ZVjG3DN4ZSsS"
      },
      "execution_count": null,
      "outputs": []
    },
    {
      "cell_type": "code",
      "source": [
        "reg.intercept_"
      ],
      "metadata": {
        "id": "w2WjYX8YZZdn"
      },
      "execution_count": null,
      "outputs": []
    },
    {
      "cell_type": "code",
      "source": [
        "name = input(\"Please enter your name: \")\n",
        "age = float(input(\"How old are you? \"))\n",
        "sex = float(input(\"Are you male or female?(1 FOR FEMALE / 2 FOR MALE)\"))\n",
        "bmi = float(input(\"What is your body mass index (BMI)?\"))\n",
        "children = float(input(\"How many children do you have?\"))\n",
        "smoker = float(input(\"Do You Smoke?(1 FOR YES / 0 FOR NO)\"))\n",
        "#Estimated_Yearly_Charges = (age * 260.82088791) + (bmi* 302.81352255) + (children * 591.55477489 ) + (sex * 90.9914789) + (smoker * 23451.77499503) -11850.842581782039\n",
        "#print(\"The Estimated Insurance Charges yearly for\", name, \"is $\", round(Estimated_Yearly_Charges,2))"
      ],
      "metadata": {
        "id": "Z_sIGtHaZfBn"
      },
      "execution_count": null,
      "outputs": []
    },
    {
      "cell_type": "code",
      "source": [
        "Estimated_Yearly_Charges = (age * 260.82088791) + (bmi* 302.81352255) + (children * 591.55477489 ) + (sex * 90.9914789) + (smoker * 23451.77499503) -11850.842581782039\n",
        "print(\"The Estimated Insurance Charges yearly for\", name, \"is $\", round(Estimated_Yearly_Charges,2))"
      ],
      "metadata": {
        "id": "D-mnHwUdbC3u"
      },
      "execution_count": null,
      "outputs": []
    }
  ]
}